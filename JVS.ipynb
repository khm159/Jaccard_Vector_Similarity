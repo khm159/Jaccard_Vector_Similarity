{
  "nbformat": 4,
  "nbformat_minor": 0,
  "metadata": {
    "colab": {
      "name": "JVS.ipynb",
      "provenance": []
    },
    "kernelspec": {
      "name": "python3",
      "display_name": "Python 3"
    },
    "language_info": {
      "name": "python"
    }
  },
  "cells": [
    {
      "cell_type": "code",
      "metadata": {
        "colab": {
          "base_uri": "https://localhost:8080/",
          "height": 282
        },
        "id": "24IRWc1fvCk4",
        "outputId": "5c14d8fc-9d78-4cc7-e812-032a595e40b4"
      },
      "source": [
        "### this is the unofficial implementation of Jaccard Vector Similarity(JVS)\n",
        "### Basura Fernando and Samitha Herath, \"Anticipating human actions by correlating past with the future with Jaccard similarity measures\", CVPR, 2021\n",
        "\n",
        "import torch\n",
        "import matplotlib.pyplot as plt\n",
        "\n",
        "def jaccard_vector_similarity(Z_h, Z_t):\n",
        "  similarity = (2*(torch.dot(Z_h,Z_t)))/(torch.dot(Z_h,Z_h) + torch.dot(Z_t,Z_t))\n",
        "  return similarity\n",
        "\n",
        "vec = torch.rand([512])\n",
        "k_val = range(-20,20)\n",
        "sims = []\n",
        "\n",
        "for k in k_val:\n",
        "  kvec = k*vec\n",
        "  sims.append(jaccard_vector_similarity(vec,kvec))\n",
        "\n",
        "plt.plot(sims)\n",
        "\n",
        "\n",
        "\n"
      ],
      "execution_count": null,
      "outputs": [
        {
          "output_type": "execute_result",
          "data": {
            "text/plain": [
              "[<matplotlib.lines.Line2D at 0x7fc450db4d10>]"
            ]
          },
          "metadata": {
            "tags": []
          },
          "execution_count": 9
        },
        {
          "output_type": "display_data",
          "data": {
            "image/png": "[encoded data removed]",
            "text/plain": [
              "<Figure size 432x288 with 1 Axes>"
            ]
          },
          "metadata": {
            "tags": [],
            "needs_background": "light"
          }
        }
      ]
    },
    {
      "cell_type": "code",
      "metadata": {
        "colab": {
          "base_uri": "https://localhost:8080/",
          "height": 165
        },
        "id": "7G7p5eh46Rn4",
        "outputId": "6490030c-b2bb-4759-ee58-01710df4c159"
      },
      "source": [
        "### batch support\n",
        "import sys \n",
        "\n",
        "def bdot(a, b):\n",
        "    B = a.shape[0]\n",
        "    S = a.shape[1]\n",
        "    return torch.bmm(a.view(B, 1, S), b.view(B, S, 1)).reshape(-1)\n",
        "\n",
        "def jaccard_vector_similarity_batch(Z_h, Z_t):\n",
        "\n",
        "  b1,d1 = Z_h.shape\n",
        "  b2,d2 = Z_t.shape\n",
        "\n",
        "  if b1 != b2 or d1!= d2:\n",
        "    raise print(\"Shape or Batch size is not mathed!\")\n",
        "    sys.exit()\n",
        "\n",
        "  similarity = (2*(bdot(Z_h,Z_t)))/(bdot(Z_h,Z_h) + bdot(Z_t,Z_t))\n",
        "  return similarity\n",
        "\n",
        "vec = torch.rand([2,512])\n",
        "k_val = range(-20,20)\n",
        "sims1 = []\n",
        "sims2 = []\n",
        "\n",
        "for k in k_val:\n",
        "  kvec = k*vec\n",
        "  sim = jaccard_vector_similarity_batch(vec,kvec)\n",
        "  sims1.append(sim[0])\n",
        "  sims2.append(sim[1])\n",
        "\n",
        "plt.subplot(221)\n",
        "plt.plot(sims1)\n",
        "plt.subplot(222)\n",
        "plt.plot(sims2)\n",
        "\n",
        "\n"
      ],
      "execution_count": 14,
      "outputs": [
        {
          "output_type": "execute_result",
          "data": {
            "text/plain": [
              "[<matplotlib.lines.Line2D at 0x7fc450807850>]"
            ]
          },
          "metadata": {
            "tags": []
          },
          "execution_count": 14
        },
        {
          "output_type": "display_data",
          "data": {
            "image/png": "[encoded data removed]",
            "text/plain": [
              "<Figure size 432x288 with 2 Axes>"
            ]
          },
          "metadata": {
            "tags": [],
            "needs_background": "light"
          }
        }
      ]
    },
    {
      "cell_type": "code",
      "metadata": {
        "id": "6zX_wGwxI9vi"
      },
      "source": [
        ""
      ],
      "execution_count": null,
      "outputs": []
    }
  ]
}